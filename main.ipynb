{
 "cells": [
  {
   "cell_type": "markdown",
   "metadata": {},
   "source": [
    "# Statistics:-\n",
    "                It is the science of collacting, organising and analyzing data.\n",
    "\n",
    "## Types:-\n",
    "            1. Descriptive\n",
    "            2. Inferential\n",
    "\n",
    "1. Descriptive :- it connsist of organising and summarizing data.\n",
    "2. Inferential :- It consist of using data you have mesured to form conclusions."
   ]
  },
  {
   "cell_type": "markdown",
   "metadata": {},
   "source": [
    "## Descriptive Statistics\n",
    "1. Measure of central tendecy.\n",
    "2. Measure of dispersion (variance and standard deviation).\n",
    "3. Different types of distribution of data.\n",
    "4. Histogram, Probability desity function, probability mass function.\n",
    "\n",
    "## Inferential Statistics\n",
    "Hypothesis Testing\n",
    "                    1. Z-test\n",
    "                    2. T-test\n",
    "                    3. Anova test"
   ]
  },
  {
   "cell_type": "markdown",
   "metadata": {},
   "source": [
    "## Veriable :-\n",
    "                Veriable is a property that can take on many values.\n",
    "\n",
    "#### Types:-\n",
    "\n",
    "1. Quantative:-         \n",
    "                a. Descrite veriable (Whole number).    \n",
    "                b. Continious veriable (Infinite Value)\n",
    "\n",
    "2. Qualitative/catagorical :-       \n",
    "                                Based on property classified. (ex:- Gender, Colour, Type)\n",
    "\n",
    "\n",
    "## Population and Sample        \n",
    "A population is the entire group that you want to draw conclusions about.       \n",
    "A sample is the specific group that you will collect data from. The size of the sample is always less than the total size of the population.\n",
    "\n",
    "                "
   ]
  },
  {
   "cell_type": "markdown",
   "metadata": {},
   "source": [
    "###                  Descriptive Statistics\n",
    "\n",
    "#### Measure of central tendency\n",
    "It is used to determine the \"center\" of the distribution of data.\n"
   ]
  },
  {
   "cell_type": "code",
   "execution_count": 10,
   "metadata": {},
   "outputs": [
    {
     "data": {
      "text/plain": [
       "[1, 2, 2, 3, 4, 5, 100]"
      ]
     },
     "execution_count": 10,
     "metadata": {},
     "output_type": "execute_result"
    }
   ],
   "source": [
    "# This is the example dataset we will be working in to learn in simple and easy way...\n",
    "\n",
    "import numpy as np\n",
    "import pandas as pd\n",
    "\n",
    "data = [1, 2, 2, 3, 4, 5, 100]\n",
    "data"
   ]
  },
  {
   "cell_type": "markdown",
   "metadata": {},
   "source": [
    "Mean:- The mean is the sum of all data points divided by the number of data points.     \n",
    "Formula:-  Mean = ∑X/N (where ∑X is sum of all vaues and N is the number of values)\n",
    "\n",
    "Median:- The median is the middle value when a data set is ordered from least to greatest. If the number of data points is even, the median is the average of the two middle numbers.\n",
    "\n",
    "Mode:- The mode is the value that appears most frequently in a dataset. A dataset may have one mode, more than one mode, or no mode at all if no value repeats."
   ]
  },
  {
   "cell_type": "code",
   "execution_count": 12,
   "metadata": {},
   "outputs": [
    {
     "name": "stdout",
     "output_type": "stream",
     "text": [
      "Mean: 16.714285714285715\n",
      "Median: 3.0\n",
      "Mode: 2\n"
     ]
    }
   ],
   "source": [
    "#mean\n",
    "mean = np.mean(data)\n",
    "print(f\"Mean: {mean}\")\n",
    "\n",
    "# Median\n",
    "median = np.median(data)\n",
    "print(f\"Median: {median}\")\n",
    "\n",
    "# Mode\n",
    "mode = pd.Series(data).mode()[0]\n",
    "print(f\"Mode: {mode}\")\n"
   ]
  },
  {
   "cell_type": "markdown",
   "metadata": {},
   "source": [
    "### Measure of Dispersion\n",
    "Varience :- Variance measures how far a set of numbers are spread out from their average value (mean).      \n",
    "        \n",
    "Formula     \n",
    "        \n",
    "For population(N)       \n",
    "σ2 = ∑ (xi-μ)2/N        \n",
    "where,     \n",
    "μ = ∑ (xi)/N     \n",
    "\n",
    "For Sample(n)       \n",
    "S2 = ∑(xi - x̄)2/n-1     \n",
    "Where,      \n",
    "x̄ = ∑ (xi)/n        \n",
    "(n-1 is basel correction or degree of freedom)\n",
    "\n"
   ]
  },
  {
   "cell_type": "code",
   "execution_count": 1,
   "metadata": {},
   "outputs": [
    {
     "ename": "NameError",
     "evalue": "name 'np' is not defined",
     "output_type": "error",
     "traceback": [
      "\u001b[1;31m---------------------------------------------------------------------------\u001b[0m",
      "\u001b[1;31mNameError\u001b[0m                                 Traceback (most recent call last)",
      "Cell \u001b[1;32mIn[1], line 2\u001b[0m\n\u001b[0;32m      1\u001b[0m \u001b[38;5;66;03m# Variance\u001b[39;00m\n\u001b[1;32m----> 2\u001b[0m variance \u001b[38;5;241m=\u001b[39m \u001b[43mnp\u001b[49m\u001b[38;5;241m.\u001b[39mvar(data)\n\u001b[0;32m      3\u001b[0m \u001b[38;5;28mprint\u001b[39m(\u001b[38;5;124mf\u001b[39m\u001b[38;5;124m\"\u001b[39m\u001b[38;5;124mVariance: \u001b[39m\u001b[38;5;132;01m{\u001b[39;00mvariance\u001b[38;5;132;01m}\u001b[39;00m\u001b[38;5;124m\"\u001b[39m)\n",
      "\u001b[1;31mNameError\u001b[0m: name 'np' is not defined"
     ]
    }
   ],
   "source": [
    "# Variance\n",
    "variance = np.var(data)\n",
    "print(f\"Variance: {variance}\")"
   ]
  },
  {
   "cell_type": "markdown",
   "metadata": {},
   "source": []
  }
 ],
 "metadata": {
  "kernelspec": {
   "display_name": "Python 3",
   "language": "python",
   "name": "python3"
  },
  "language_info": {
   "codemirror_mode": {
    "name": "ipython",
    "version": 3
   },
   "file_extension": ".py",
   "mimetype": "text/x-python",
   "name": "python",
   "nbconvert_exporter": "python",
   "pygments_lexer": "ipython3",
   "version": "3.12.6"
  }
 },
 "nbformat": 4,
 "nbformat_minor": 2
}
