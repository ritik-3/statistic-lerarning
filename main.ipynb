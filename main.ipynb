{
 "cells": [
  {
   "cell_type": "markdown",
   "metadata": {},
   "source": [
    "# Statistics:-\n",
    "                It is the science of collacting, organising and analyzing data.\n",
    "\n",
    "## Types:-\n",
    "            1. Descriptive\n",
    "            2. Inferential\n",
    "\n",
    "1. Descriptive :- it connsist of organising and summarizing data.\n",
    "2. Inferential :- It consist of using data you have mesured to form conclusions."
   ]
  },
  {
   "cell_type": "markdown",
   "metadata": {},
   "source": [
    "## Descriptive Statistics\n",
    "1. Measure of central tendecy.\n",
    "2. Measure of dispersion (variance and standard deviation).\n",
    "3. Different types of distribution of data.\n",
    "4. Histogram, Probability desity function, probability mass function.\n",
    "\n",
    "## Inferential Statistics\n",
    "Hypothesis Testing\n",
    "                    1. Z-test\n",
    "                    2. T-test\n",
    "                    3. Anova test"
   ]
  },
  {
   "cell_type": "markdown",
   "metadata": {},
   "source": [
    "## Veriable :-\n",
    "                Veriable is a property that can take on many values.\n",
    "\n",
    "#### Types:-\n",
    "\n",
    "1. Quantative:-         \n",
    "                a. Descrite veriable (Whole number).    \n",
    "                b. Continious veriable (Infinite Value)\n",
    "\n",
    "2. Qualitative/catagorical :-       \n",
    "                                Based on property classified. (ex:- Gender, Colour, Type)\n",
    "\n",
    "                "
   ]
  },
  {
   "cell_type": "markdown",
   "metadata": {},
   "source": []
  }
 ],
 "metadata": {
  "language_info": {
   "name": "python"
  }
 },
 "nbformat": 4,
 "nbformat_minor": 2
}
